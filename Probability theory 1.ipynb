{
 "cells": [
  {
   "cell_type": "code",
   "execution_count": 36,
   "metadata": {},
   "outputs": [],
   "source": [
    "# # Из колоды в 52 карты извлекаются случайным образом 4 карты. \n",
    "# a) Найти вероятность того, что все карты – крести. \n",
    "# n - количество карт в колоде\n",
    "# k - количество карт в масти\n",
    "# m - количество извлеченных карт\n",
    "\n",
    "import numpy as np\n",
    "\n",
    "from math import factorial\n",
    "def crosses(n,k,m):\n",
    "    return float(factorial(k)/(factorial(m)*factorial(k-m)))/(factorial(n)/(factorial(m)*factorial(n-m)))"
   ]
  },
  {
   "cell_type": "code",
   "execution_count": 37,
   "metadata": {},
   "outputs": [
    {
     "data": {
      "text/plain": [
       "0.0026410564225690276"
      ]
     },
     "execution_count": 37,
     "metadata": {},
     "output_type": "execute_result"
    }
   ],
   "source": [
    "crosses(52,13,4)"
   ]
  },
  {
   "cell_type": "code",
   "execution_count": null,
   "metadata": {},
   "outputs": [],
   "source": [
    "# б) Найти вероятность, что среди 4-х карт окажется хотя бы один туз.\n",
    "# n - количество карт в колоде\n",
    "# k - количество тузов в колоде\n",
    "# m - количество извлеченных карт\n",
    "# s - количество тузов в извлеченных картах"
   ]
  },
  {
   "cell_type": "code",
   "execution_count": 72,
   "metadata": {},
   "outputs": [],
   "source": [
    "def tuz(n,k,m,s):\n",
    "    return float(factorial(k)/(factorial(s)*factorial(k-s)))*(factorial(n-k)/(factorial(m-s)*factorial(n-k-m+s)))/(factorial(n)/(factorial(m)*factorial(n-m)))"
   ]
  },
  {
   "cell_type": "code",
   "execution_count": 74,
   "metadata": {},
   "outputs": [
    {
     "data": {
      "text/plain": [
       "0.25555083571890297"
      ]
     },
     "execution_count": 74,
     "metadata": {},
     "output_type": "execute_result"
    }
   ],
   "source": [
    "tuz(52,4,4,1)"
   ]
  },
  {
   "cell_type": "code",
   "execution_count": 76,
   "metadata": {},
   "outputs": [],
   "source": [
    "# # На входной двери подъезда установлен кодовый замок, содержащий десять кнопок с цифрами от 0 до 9. \n",
    "# Код содержит три цифры, которые нужно нажать одновременно. \n",
    "# Какова вероятность того, что человек, не знающий код, откроет дверь с первой попытки?\n",
    "# n-количество кнопок\n",
    "# k - количество цифр\n",
    "# m - количество попыток\n",
    "# s -  количество удачных попыток\n",
    "def bottoms (n,k,m,s):\n",
    "    return float(factorial(m)/(factorial(s)*factorial(m-s)))/(factorial(n+1)/(factorial(k)*factorial(n+1-k)))"
   ]
  },
  {
   "cell_type": "code",
   "execution_count": 79,
   "metadata": {},
   "outputs": [
    {
     "data": {
      "text/plain": [
       "0.016666666666666666"
      ]
     },
     "execution_count": 79,
     "metadata": {},
     "output_type": "execute_result"
    }
   ],
   "source": [
    "bottoms(9,3,2,1)"
   ]
  },
  {
   "cell_type": "code",
   "execution_count": 51,
   "metadata": {},
   "outputs": [],
   "source": [
    "# В ящике имеется 15 деталей, из которых 9 окрашены. \n",
    "# Рабочий случайным образом извлекает 3 детали. \n",
    "# Какова вероятность того, что все извлеченные детали окрашены?\n",
    "# n - всего деталей\n",
    "# k - количество окрашенных деталей\n",
    "# m - количество извлеченных деталей\n",
    "def color(n,k,m):\n",
    "    return float(factorial(k)/(factorial(m)*factorial(k-m)))/(factorial(n)/(factorial(m)*factorial(n-m)))"
   ]
  },
  {
   "cell_type": "code",
   "execution_count": 54,
   "metadata": {},
   "outputs": [
    {
     "data": {
      "text/plain": [
       "0.18461538461538463"
      ]
     },
     "execution_count": 54,
     "metadata": {},
     "output_type": "execute_result"
    }
   ],
   "source": [
    "color(15,9,3)"
   ]
  },
  {
   "cell_type": "code",
   "execution_count": 62,
   "metadata": {},
   "outputs": [],
   "source": [
    "# В лотерее 100 билетов.\n",
    "# Из них 2 выигрышных. Какова вероятность того, что 2 приобретенных билета окажутся выигрышными?\n",
    "# n - всего билетов\n",
    "# k - количество приобретенных билетов\n",
    "# m - количество выйгрышных билетов\n",
    "def tickets (n,k,m):\n",
    "    return float(factorial(k)/(factorial(m)*factorial(k-m)))*(factorial(n-k)/(factorial(k-m)*factorial(n-k-k+m)))/(factorial(n)/(factorial(k)*factorial(n-k)))"
   ]
  },
  {
   "cell_type": "code",
   "execution_count": 63,
   "metadata": {},
   "outputs": [
    {
     "data": {
      "text/plain": [
       "0.00020202020202020202"
      ]
     },
     "execution_count": 63,
     "metadata": {},
     "output_type": "execute_result"
    }
   ],
   "source": [
    "tickets (100,2,2)"
   ]
  },
  {
   "cell_type": "code",
   "execution_count": null,
   "metadata": {},
   "outputs": [],
   "source": []
  }
 ],
 "metadata": {
  "kernelspec": {
   "display_name": "Python 3",
   "language": "python",
   "name": "python3"
  },
  "language_info": {
   "codemirror_mode": {
    "name": "ipython",
    "version": 3
   },
   "file_extension": ".py",
   "mimetype": "text/x-python",
   "name": "python",
   "nbconvert_exporter": "python",
   "pygments_lexer": "ipython3",
   "version": "3.7.1"
  }
 },
 "nbformat": 4,
 "nbformat_minor": 2
}

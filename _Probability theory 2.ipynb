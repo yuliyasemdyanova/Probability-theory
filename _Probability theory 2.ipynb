{
 "cells": [
  {
   "cell_type": "code",
   "execution_count": 66,
   "metadata": {},
   "outputs": [],
   "source": [
    "# Вероятность того, что стрелок попадет в мишень, выстрелив один раз, равна 0.8. \n",
    "# Стрелок выстрелил 100 раз. Найдите вероятность того, что стрелок попадет в цель ровно 85 раз.\n",
    "import numpy as np\n",
    "# n - количество попыток\n",
    "# k - количество попаданий\n",
    "# p - вероятность попадания\n",
    "import numpy as np\n",
    "import math\n",
    "from math import factorial\n",
    "def shots(n,k,p):\n",
    "    return float(factorial(n)/(factorial(k)*factorial(n-k)))*p**k*(1-p)**(n-k)"
   ]
  },
  {
   "cell_type": "code",
   "execution_count": 67,
   "metadata": {},
   "outputs": [
    {
     "data": {
      "text/plain": [
       "0.048061793700746355"
      ]
     },
     "execution_count": 67,
     "metadata": {},
     "output_type": "execute_result"
    }
   ],
   "source": [
    "shots(100,85,0.8)\n",
    "    "
   ]
  },
  {
   "cell_type": "code",
   "execution_count": 68,
   "metadata": {},
   "outputs": [],
   "source": [
    "# Вероятность того, что лампочка перегорит в течение первого дня эксплуатации, равна 0.0004.\n",
    "# В жилом комплексе после ремонта в один день включили 5000 новых лампочек. \n",
    "# Какова вероятность, что ни одна из них не перегорит в первый день? Какова вероятность, что перегорят ровно две?\n",
    "# n - количество лампочек\n",
    "# m - количество перегоревших лампочек\n",
    "# p - вероятность перегорания в первый день эксплуатации\n",
    "lambda_=n*p\n",
    "def lights(n,m,p):\n",
    "    return float(lambda_**m/factorial(m))*np.exp(-lambda_)"
   ]
  },
  {
   "cell_type": "code",
   "execution_count": 69,
   "metadata": {},
   "outputs": [
    {
     "data": {
      "text/plain": [
       "0.1353352832366127"
      ]
     },
     "execution_count": 69,
     "metadata": {},
     "output_type": "execute_result"
    }
   ],
   "source": [
    "lights(5000,0,0.0004)"
   ]
  },
  {
   "cell_type": "code",
   "execution_count": 70,
   "metadata": {},
   "outputs": [
    {
     "data": {
      "text/plain": [
       "0.2706705664732254"
      ]
     },
     "execution_count": 70,
     "metadata": {},
     "output_type": "execute_result"
    }
   ],
   "source": [
    "lights(5000,2,0.0004)"
   ]
  },
  {
   "cell_type": "code",
   "execution_count": 71,
   "metadata": {},
   "outputs": [],
   "source": [
    "# Монету подбросили 144 раза. Какова вероятность, что орел выпадет ровно 70 раз?\n",
    "# n-количество подбрасываний\n",
    "# k-количество выпадений орла\n",
    "# p - вероятность выпадания орла"
   ]
  },
  {
   "cell_type": "code",
   "execution_count": 72,
   "metadata": {},
   "outputs": [],
   "source": [
    "def coins(n,k,p):\n",
    "    return float(factorial(n)/(factorial(k)*factorial(n-k)))*p**k*(1-p)**(n-k)"
   ]
  },
  {
   "cell_type": "code",
   "execution_count": 73,
   "metadata": {},
   "outputs": [
    {
     "data": {
      "text/plain": [
       "0.06281178035144776"
      ]
     },
     "execution_count": 73,
     "metadata": {},
     "output_type": "execute_result"
    }
   ],
   "source": [
    "coins(144,70,0.5)"
   ]
  },
  {
   "cell_type": "code",
   "execution_count": 86,
   "metadata": {},
   "outputs": [],
   "source": [
    "# В первом ящике находится 10 мячей, из которых 7 - белые. Во втором ящике - 11 мячей, из которых 9 белых.\n",
    "# Из каждого ящика вытаскивают случайным образом по два мяча. Какова вероятность того, что все мячи белые? \n",
    "# Какова вероятность того, что ровно два мяча белые? \n",
    "# Какова вероятность того, что хотя бы один мяч белый?\n",
    "# n1 - количество мячей в первом ящике\n",
    "# n2 - количество мячей во втором ящике\n",
    "# m1 - количество белых мячей в первом ящике\n",
    "# m2 - количество белых мячей во втором ящике\n",
    "# k1 - количество вытащенных мячей из первого ящика\n",
    "# k2 - количество вытащенных мячей из второго ящика\n",
    "\n"
   ]
  },
  {
   "cell_type": "code",
   "execution_count": 90,
   "metadata": {},
   "outputs": [],
   "source": [
    "def balls(n,m,k):\n",
    "    return float(factorial(m)/(factorial(k)*factorial(m-k)))/(factorial(n)/(factorial(m)*factorial(n-m)))"
   ]
  },
  {
   "cell_type": "code",
   "execution_count": 92,
   "metadata": {},
   "outputs": [
    {
     "data": {
      "text/plain": [
       "0.175"
      ]
     },
     "execution_count": 92,
     "metadata": {},
     "output_type": "execute_result"
    }
   ],
   "source": [
    "balls(10,7,2)"
   ]
  },
  {
   "cell_type": "code",
   "execution_count": 99,
   "metadata": {},
   "outputs": [
    {
     "data": {
      "text/plain": [
       "0.6545454545454545"
      ]
     },
     "execution_count": 99,
     "metadata": {},
     "output_type": "execute_result"
    }
   ],
   "source": [
    "n2=11\n",
    "m2=9\n",
    "k2=2\n",
    "p2=(factorial(m2)/(factorial(k2)*factorial(m2-k2)))/(factorial(n2)/(factorial(m2)*factorial(n2-m2)))\n",
    "p2"
   ]
  },
  {
   "cell_type": "code",
   "execution_count": 100,
   "metadata": {},
   "outputs": [
    {
     "data": {
      "text/plain": [
       "0.11454545454545453"
      ]
     },
     "execution_count": 100,
     "metadata": {},
     "output_type": "execute_result"
    }
   ],
   "source": [
    "p=p1*p2\n",
    "p"
   ]
  },
  {
   "cell_type": "code",
   "execution_count": null,
   "metadata": {},
   "outputs": [],
   "source": []
  }
 ],
 "metadata": {
  "kernelspec": {
   "display_name": "Python 3",
   "language": "python",
   "name": "python3"
  },
  "language_info": {
   "codemirror_mode": {
    "name": "ipython",
    "version": 3
   },
   "file_extension": ".py",
   "mimetype": "text/x-python",
   "name": "python",
   "nbconvert_exporter": "python",
   "pygments_lexer": "ipython3",
   "version": "3.7.1"
  }
 },
 "nbformat": 4,
 "nbformat_minor": 2
}
